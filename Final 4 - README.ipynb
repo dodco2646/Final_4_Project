{
 "cells": [
  {
   "cell_type": "markdown",
   "metadata": {},
   "source": [
    "# DU Data Viz Project Proposal\n",
    "## Team Final Four"
   ]
  },
  {
   "cell_type": "markdown",
   "metadata": {},
   "source": [
    "## Impact of New Beer/Liquor Law in Colorado\n",
    "\n",
    "This project will evaluate the impact to independent liquor stores due to grocery chains selling beer, wine liquor"
   ]
  },
  {
   "cell_type": "markdown",
   "metadata": {},
   "source": [
    "## Team Members\n",
    "\n",
    " - Dan O'Donnell \n",
    " - Bill McCrosky\n",
    " - Jordan Miller\n",
    " - Denton Brosh\n",
    " "
   ]
  },
  {
   "cell_type": "markdown",
   "metadata": {},
   "source": [
    "## Git Repo URL\n",
    "You can find our git repo [here](https://github.com/dodco2646/Final_4_Project.git)\n"
   ]
  },
  {
   "cell_type": "markdown",
   "metadata": {},
   "source": [
    "## Research Question(s)\n",
    "1. Is Full Strength Beer in Colorado grocery stores impacting local liquor stores.  See article from Denver's FOX 31 [here](\"https://www.thedenverchannel.com/money/consumer/colorado-grocers-can-offer-full-strength-beer-on-jan-1)\n"
   ]
  },
  {
   "cell_type": "markdown",
   "metadata": {},
   "source": [
    "## Data Set(s)\n",
    "\n",
    "1. Denver Open Data Catalog - Liquor Licenses\n",
    "\n",
    "   Data can be accessed [here](\"https://www.denvergov.org/opendata/dataset/city-and-county-of-denver-liquor-licenses\")\n",
    "   \n",
    "   See License terms [CC BY 3.0](\"http://creativecommons.org/licenses/by/3.0/legalcode\")\n",
    "    \n",
    "\n",
    "2. Colorado Information Marketplace - Recently Approved Liquor Licenses in Colorado\n",
    "\n",
    "    Data can be accessed [here](\"https://data.colorado.gov/Business/Recently-Approved-Liquor-Licenses-in-Colorado/htyp-tqzh/data\")\n",
    "    \n",
    "    See License terms [CC BY 3.0](\"http://creativecommons.org/licenses/by/3.0/legalcode\")\n",
    "    \n",
    "    "
   ]
  },
  {
   "cell_type": "markdown",
   "metadata": {},
   "source": [
    "## Task Planning\n",
    "\n",
    "1. Create Repository\n",
    "    - Grant access to repository to all team members\n",
    "2. Finalize/locate Data sources\n",
    "3. Import Liquour License Data into Pandas\n",
    "4. Clean data frames in Pandas in order to allow analysis\n",
    "5. Use Google GeoCode API request to gather lats and longs of Liquor Data\n",
    "6. Finalize data frames \n",
    "7. Map plotted data markers and symbols\n",
    "8. Discuss conclusions on our original hypothesis \n",
    "\n"
   ]
  },
  {
   "cell_type": "code",
   "execution_count": null,
   "metadata": {},
   "outputs": [],
   "source": []
  }
 ],
 "metadata": {
  "kernelspec": {
   "display_name": "Python 3",
   "language": "python",
   "name": "python3"
  },
  "language_info": {
   "codemirror_mode": {
    "name": "ipython",
    "version": 3
   },
   "file_extension": ".py",
   "mimetype": "text/x-python",
   "name": "python",
   "nbconvert_exporter": "python",
   "pygments_lexer": "ipython3",
   "version": "3.7.1"
  }
 },
 "nbformat": 4,
 "nbformat_minor": 2
}
