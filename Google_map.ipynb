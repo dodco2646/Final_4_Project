{
 "cells": [
  {
   "cell_type": "code",
   "execution_count": 18,
   "metadata": {},
   "outputs": [],
   "source": [
    "import pandas as pd\n",
    "import matplotlib.pyplot as plt\n",
    "import requests\n",
    "import json\n",
    "import gmaps\n",
    "import difflib\n",
    "from config import gkey\n",
    "gmaps.configure(api_key=gkey)\n"
   ]
  },
  {
   "cell_type": "code",
   "execution_count": 19,
   "metadata": {},
   "outputs": [
    {
     "data": {
      "text/html": [
       "<div>\n",
       "<style scoped>\n",
       "    .dataframe tbody tr th:only-of-type {\n",
       "        vertical-align: middle;\n",
       "    }\n",
       "\n",
       "    .dataframe tbody tr th {\n",
       "        vertical-align: top;\n",
       "    }\n",
       "\n",
       "    .dataframe thead th {\n",
       "        text-align: right;\n",
       "    }\n",
       "</style>\n",
       "<table border=\"1\" class=\"dataframe\">\n",
       "  <thead>\n",
       "    <tr style=\"text-align: right;\">\n",
       "      <th></th>\n",
       "      <th>BFN</th>\n",
       "      <th>BUS_PROF_NAME</th>\n",
       "      <th>FULL_ADDRESS</th>\n",
       "      <th>LICENSES</th>\n",
       "      <th>LIC_STATUS</th>\n",
       "      <th>ISSUE_DATE</th>\n",
       "      <th>END_DATE</th>\n",
       "      <th>ADDRESS_ID</th>\n",
       "      <th>ADDRESS_LINE1</th>\n",
       "      <th>ADDRESS_LINE2</th>\n",
       "      <th>CITY</th>\n",
       "      <th>STATE</th>\n",
       "      <th>ZIP</th>\n",
       "      <th>COUNCIL_DIST</th>\n",
       "      <th>POLICE_DIST</th>\n",
       "      <th>CENSUS_TRACT</th>\n",
       "      <th>X_COORD</th>\n",
       "      <th>Y_COORD</th>\n",
       "    </tr>\n",
       "  </thead>\n",
       "  <tbody>\n",
       "    <tr>\n",
       "      <th>0</th>\n",
       "      <td>2013-BFN-1065524</td>\n",
       "      <td>SARTO'S</td>\n",
       "      <td>2900 W 25TH AVE</td>\n",
       "      <td>LIQUOR - HOTEL AND RESTAURANT</td>\n",
       "      <td>LICENSE ISSUED - ACTIVE</td>\n",
       "      <td>2018-08-06 08:34:30</td>\n",
       "      <td>2019-08-21 00:00:00</td>\n",
       "      <td>163150.0</td>\n",
       "      <td>2900 W 25th Ave</td>\n",
       "      <td>None</td>\n",
       "      <td>Denver</td>\n",
       "      <td>CO</td>\n",
       "      <td>None</td>\n",
       "      <td>1</td>\n",
       "      <td>1</td>\n",
       "      <td>00600</td>\n",
       "      <td>3133901.0</td>\n",
       "      <td>1699671.0</td>\n",
       "    </tr>\n",
       "    <tr>\n",
       "      <th>1</th>\n",
       "      <td>2006-BFN-1021798</td>\n",
       "      <td>MAD GREENS</td>\n",
       "      <td>1200 ACOMA ST #A-101</td>\n",
       "      <td>LIQUOR - HOTEL AND RESTAURANT</td>\n",
       "      <td>LICENSE ISSUED - ACTIVE</td>\n",
       "      <td>2018-08-23 15:58:52.000001</td>\n",
       "      <td>2019-09-18 00:00:00</td>\n",
       "      <td>None</td>\n",
       "      <td>None</td>\n",
       "      <td>None</td>\n",
       "      <td>None</td>\n",
       "      <td>None</td>\n",
       "      <td>None</td>\n",
       "      <td>10</td>\n",
       "      <td>6</td>\n",
       "      <td>02000</td>\n",
       "      <td>3143825.0</td>\n",
       "      <td>1693407.0</td>\n",
       "    </tr>\n",
       "    <tr>\n",
       "      <th>2</th>\n",
       "      <td>2014-BFN-1074718</td>\n",
       "      <td>UNION LODGE NO. 1</td>\n",
       "      <td>1543 CHAMPA STSUITE 101</td>\n",
       "      <td>LIQUOR - TAVERN</td>\n",
       "      <td>LICENSE ISSUED - ACTIVE</td>\n",
       "      <td>2018-11-19 09:43:55</td>\n",
       "      <td>2019-11-30 00:00:00</td>\n",
       "      <td>381438.0</td>\n",
       "      <td>1543 Champa St Ste 101</td>\n",
       "      <td>None</td>\n",
       "      <td>Denver</td>\n",
       "      <td>CO</td>\n",
       "      <td>None</td>\n",
       "      <td>9</td>\n",
       "      <td>6</td>\n",
       "      <td>01702</td>\n",
       "      <td>3142112.0</td>\n",
       "      <td>1697105.0</td>\n",
       "    </tr>\n",
       "    <tr>\n",
       "      <th>3</th>\n",
       "      <td>2013-BFN-1066026</td>\n",
       "      <td>TARGET STORE T-2820</td>\n",
       "      <td>7777 E HAMPDEN AVE</td>\n",
       "      <td>LIQUOR - FERMENTED MALT BEVERAGE</td>\n",
       "      <td>LICENSE ISSUED - ACTIVE</td>\n",
       "      <td>2018-06-22 09:07:42</td>\n",
       "      <td>2019-06-26 00:00:00</td>\n",
       "      <td>223542.0</td>\n",
       "      <td>7777 E Hampden Ave</td>\n",
       "      <td>None</td>\n",
       "      <td>Denver</td>\n",
       "      <td>CO</td>\n",
       "      <td>None</td>\n",
       "      <td>4</td>\n",
       "      <td>3</td>\n",
       "      <td>06811</td>\n",
       "      <td>3168865.0</td>\n",
       "      <td>1664167.0</td>\n",
       "    </tr>\n",
       "    <tr>\n",
       "      <th>4</th>\n",
       "      <td>2011-BFN-1051932</td>\n",
       "      <td>MARG'S TACO BISTRO</td>\n",
       "      <td>1519 WYNKOOP ST</td>\n",
       "      <td>LIQUOR - HOTEL AND RESTAURANT</td>\n",
       "      <td>LICENSE ISSUED - ACTIVE</td>\n",
       "      <td>2018-06-11 09:10:33.000001</td>\n",
       "      <td>2019-05-01 00:00:00</td>\n",
       "      <td>378005.0</td>\n",
       "      <td>1519 Wynkoop St</td>\n",
       "      <td>None</td>\n",
       "      <td>Denver</td>\n",
       "      <td>CO</td>\n",
       "      <td>None</td>\n",
       "      <td>9</td>\n",
       "      <td>6</td>\n",
       "      <td>01701</td>\n",
       "      <td>3140074.0</td>\n",
       "      <td>1698952.0</td>\n",
       "    </tr>\n",
       "  </tbody>\n",
       "</table>\n",
       "</div>"
      ],
      "text/plain": [
       "                BFN        BUS_PROF_NAME              FULL_ADDRESS  \\\n",
       "0  2013-BFN-1065524              SARTO'S           2900 W 25TH AVE   \n",
       "1  2006-BFN-1021798           MAD GREENS     1200 ACOMA ST #A-101    \n",
       "2  2014-BFN-1074718    UNION LODGE NO. 1  1543 CHAMPA STSUITE 101    \n",
       "3  2013-BFN-1066026  TARGET STORE T-2820        7777 E HAMPDEN AVE   \n",
       "4  2011-BFN-1051932   MARG'S TACO BISTRO           1519 WYNKOOP ST   \n",
       "\n",
       "                           LICENSES               LIC_STATUS  \\\n",
       "0     LIQUOR - HOTEL AND RESTAURANT  LICENSE ISSUED - ACTIVE   \n",
       "1     LIQUOR - HOTEL AND RESTAURANT  LICENSE ISSUED - ACTIVE   \n",
       "2                   LIQUOR - TAVERN  LICENSE ISSUED - ACTIVE   \n",
       "3  LIQUOR - FERMENTED MALT BEVERAGE  LICENSE ISSUED - ACTIVE   \n",
       "4     LIQUOR - HOTEL AND RESTAURANT  LICENSE ISSUED - ACTIVE   \n",
       "\n",
       "                   ISSUE_DATE             END_DATE ADDRESS_ID  \\\n",
       "0         2018-08-06 08:34:30  2019-08-21 00:00:00   163150.0   \n",
       "1  2018-08-23 15:58:52.000001  2019-09-18 00:00:00       None   \n",
       "2         2018-11-19 09:43:55  2019-11-30 00:00:00   381438.0   \n",
       "3         2018-06-22 09:07:42  2019-06-26 00:00:00   223542.0   \n",
       "4  2018-06-11 09:10:33.000001  2019-05-01 00:00:00   378005.0   \n",
       "\n",
       "            ADDRESS_LINE1 ADDRESS_LINE2    CITY STATE   ZIP  COUNCIL_DIST  \\\n",
       "0         2900 W 25th Ave          None  Denver    CO  None             1   \n",
       "1                    None          None    None  None  None            10   \n",
       "2  1543 Champa St Ste 101          None  Denver    CO  None             9   \n",
       "3      7777 E Hampden Ave          None  Denver    CO  None             4   \n",
       "4         1519 Wynkoop St          None  Denver    CO  None             9   \n",
       "\n",
       "  POLICE_DIST CENSUS_TRACT    X_COORD    Y_COORD  \n",
       "0           1        00600  3133901.0  1699671.0  \n",
       "1           6        02000  3143825.0  1693407.0  \n",
       "2           6        01702  3142112.0  1697105.0  \n",
       "3           3        06811  3168865.0  1664167.0  \n",
       "4           6        01701  3140074.0  1698952.0  "
      ]
     },
     "execution_count": 19,
     "metadata": {},
     "output_type": "execute_result"
    }
   ],
   "source": [
    "data = pd.read_csv(\"liquor_licenses_Denver.csv\")\n",
    "data.head()"
   ]
  },
  {
   "cell_type": "code",
   "execution_count": 20,
   "metadata": {},
   "outputs": [],
   "source": [
    "# ALl of the below code works (this was the initial code just for Safeway)\n",
    "# fermented_beer_license = data.loc[data['LICENSES']=='LIQUOR - FERMENTED MALT BEVERAGE']\n",
    "# Safeway = []\n",
    "# for bus_name in fermented_beer_license['BUS_PROF_NAME']:\n",
    "#     Safeway.append(bus_name.find(\"SAFEWAY\"))\n",
    "\n",
    "# fermented_beer_license['IsSafeway'] = Safeway\n",
    "# Safeways_I_care_about = fermented_beer_license['IsSafeway'] >= 0\n",
    "# FinalGroceryStoreList = fermented_beer_license.loc[Safeways_I_care_about]\n",
    "# FinalGroceryStoreList.head()"
   ]
  },
  {
   "cell_type": "code",
   "execution_count": 21,
   "metadata": {},
   "outputs": [],
   "source": [
    "# fermented_beer_license = data.loc[data['LICENSES']=='LIQUOR - FERMENTED MALT BEVERAGE']\n",
    "# grocery = []\n",
    "# for bus_name in fermented_beer_license['BUS_PROF_NAME']:\n",
    "#     if bus_name.find(\"SAFEWAY\")>= 0:\n",
    "#         grocery.append(bus_name.find(\"SAFEWAY\"))\n",
    "#     elif bus_name.find(\"KING\")>= 0:\n",
    "#         grocery.append(bus_name.find(\"KING\"))\n",
    "#     else:\n",
    "#         grocery.append(int(-1))\n",
    "\n",
    "# fermented_beer_license['IsGrocery'] = grocery\n",
    "# grocerys_I_care_about = fermented_beer_license['IsGrocery'] >= 0\n",
    "# FinalGroceryStoreList = fermented_beer_license.loc[grocerys_I_care_about]\n"
   ]
  },
  {
   "cell_type": "code",
   "execution_count": 22,
   "metadata": {},
   "outputs": [
    {
     "name": "stdout",
     "output_type": "stream",
     "text": [
      "[39.7534095, 39.7362402, 39.746276, 39.6547562, 39.7514459]\n",
      "[-105.0238487, -104.9891889, -104.9946377, -104.9006037, -105.0016923]\n"
     ]
    }
   ],
   "source": [
    "#This cell will request from the maps API to get the \n",
    "active_liq_lic = data['FULL_ADDRESS'].head()\n",
    "lat = []\n",
    "long = []\n",
    "base_url = \"https://maps.googleapis.com/maps/api/geocode/json\"\n",
    "\n",
    "for city in active_liq_lic:\n",
    "    params = {\"address\": city, \"key\": gkey}\n",
    "    response = requests.get(base_url, params=params)\n",
    "    response_json = response.json()\n",
    "    lat.append(response_json[\"results\"][0][\"geometry\"][\"location\"][\"lat\"])\n",
    "    long.append(response_json[\"results\"][0][\"geometry\"][\"location\"][\"lng\"])\n",
    "    \n",
    "print(lat)\n",
    "print(long)\n"
   ]
  },
  {
   "cell_type": "code",
   "execution_count": 23,
   "metadata": {},
   "outputs": [
    {
     "data": {
      "text/plain": [
       "0             2900 W 25TH AVE\n",
       "1       1200 ACOMA ST #A-101 \n",
       "2    1543 CHAMPA STSUITE 101 \n",
       "3          7777 E HAMPDEN AVE\n",
       "4             1519 WYNKOOP ST\n",
       "Name: FULL_ADDRESS, dtype: object"
      ]
     },
     "execution_count": 23,
     "metadata": {},
     "output_type": "execute_result"
    }
   ],
   "source": [
    "active_liq_lic\n"
   ]
  },
  {
   "cell_type": "code",
   "execution_count": 24,
   "metadata": {},
   "outputs": [
    {
     "data": {
      "text/html": [
       "<div>\n",
       "<style scoped>\n",
       "    .dataframe tbody tr th:only-of-type {\n",
       "        vertical-align: middle;\n",
       "    }\n",
       "\n",
       "    .dataframe tbody tr th {\n",
       "        vertical-align: top;\n",
       "    }\n",
       "\n",
       "    .dataframe thead th {\n",
       "        text-align: right;\n",
       "    }\n",
       "</style>\n",
       "<table border=\"1\" class=\"dataframe\">\n",
       "  <thead>\n",
       "    <tr style=\"text-align: right;\">\n",
       "      <th></th>\n",
       "      <th>Address</th>\n",
       "      <th>Latitude</th>\n",
       "      <th>Longitude</th>\n",
       "    </tr>\n",
       "  </thead>\n",
       "  <tbody>\n",
       "    <tr>\n",
       "      <th>0</th>\n",
       "      <td>2900 W 25TH AVE</td>\n",
       "      <td>39.753409</td>\n",
       "      <td>-105.023849</td>\n",
       "    </tr>\n",
       "    <tr>\n",
       "      <th>1</th>\n",
       "      <td>1200 ACOMA ST #A-101</td>\n",
       "      <td>39.736240</td>\n",
       "      <td>-104.989189</td>\n",
       "    </tr>\n",
       "    <tr>\n",
       "      <th>2</th>\n",
       "      <td>1543 CHAMPA STSUITE 101</td>\n",
       "      <td>39.746276</td>\n",
       "      <td>-104.994638</td>\n",
       "    </tr>\n",
       "    <tr>\n",
       "      <th>3</th>\n",
       "      <td>7777 E HAMPDEN AVE</td>\n",
       "      <td>39.654756</td>\n",
       "      <td>-104.900604</td>\n",
       "    </tr>\n",
       "    <tr>\n",
       "      <th>4</th>\n",
       "      <td>1519 WYNKOOP ST</td>\n",
       "      <td>39.751446</td>\n",
       "      <td>-105.001692</td>\n",
       "    </tr>\n",
       "  </tbody>\n",
       "</table>\n",
       "</div>"
      ],
      "text/plain": [
       "                    Address   Latitude   Longitude\n",
       "0           2900 W 25TH AVE  39.753409 -105.023849\n",
       "1     1200 ACOMA ST #A-101   39.736240 -104.989189\n",
       "2  1543 CHAMPA STSUITE 101   39.746276 -104.994638\n",
       "3        7777 E HAMPDEN AVE  39.654756 -104.900604\n",
       "4           1519 WYNKOOP ST  39.751446 -105.001692"
      ]
     },
     "execution_count": 24,
     "metadata": {},
     "output_type": "execute_result"
    }
   ],
   "source": [
    "newdf = pd.DataFrame({'Address':active_liq_lic,'Latitude':lat,'Longitude':long})\n",
    "newdf.head()\n"
   ]
  },
  {
   "cell_type": "code",
   "execution_count": 25,
   "metadata": {},
   "outputs": [
    {
     "data": {
      "application/vnd.jupyter.widget-view+json": {
       "model_id": "f1fac29266a94f6e8cfab253a4e95a70",
       "version_major": 2,
       "version_minor": 0
      },
      "text/plain": [
       "Figure(layout=FigureLayout(height='420px'))"
      ]
     },
     "metadata": {},
     "output_type": "display_data"
    }
   ],
   "source": [
    "fig = gmaps.figure(center=(39.7392,-104.9903), zoom_level=12)\n",
    "active_license_locations = newdf[['Latitude','Longitude']]\n",
    "heat_layer = gmaps.heatmap_layer(active_license_locations)\n",
    "fig.add_layer(heat_layer)\n",
    "fig"
   ]
  },
  {
   "cell_type": "code",
   "execution_count": null,
   "metadata": {},
   "outputs": [],
   "source": [
    "# gmaps.symbol_layer(locations, hover_text='', fill_color=None, fill_opacity=1.0, stroke_color=None, stroke_opacity=1.0, scale=3, info_box_content=None, display_info_box=None)"
   ]
  }
 ],
 "metadata": {
  "kernelspec": {
   "display_name": "Python 3",
   "language": "python",
   "name": "python3"
  },
  "language_info": {
   "codemirror_mode": {
    "name": "ipython",
    "version": 3
   },
   "file_extension": ".py",
   "mimetype": "text/x-python",
   "name": "python",
   "nbconvert_exporter": "python",
   "pygments_lexer": "ipython3",
   "version": "3.7.1"
  }
 },
 "nbformat": 4,
 "nbformat_minor": 2
}
